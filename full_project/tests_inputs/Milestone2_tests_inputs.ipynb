{
 "cells": [
  {
   "cell_type": "markdown",
   "metadata": {},
   "source": [
    "# Testing CoNLL-U datasets\n",
    "\n",
    "In this file we are testing how much the behaviour of a model changes depending of the preprocessing done to our data, including:\n",
    "\n",
    "- Removing stopwords\n",
    "- Removing punctuation\n",
    "- Removing rows that can be considered useless\n",
    "- Etc\n",
    "\n",
    "For all test we will use, for now, the same type of model, same split of values, and same hyperparameters."
   ]
  },
  {
   "cell_type": "code",
   "execution_count": 2,
   "metadata": {},
   "outputs": [],
   "source": [
    "import sys\n",
    "import os\n",
    "import pandas as pd\n",
    "from sklearn.feature_extraction.text import TfidfVectorizer\n",
    "from sklearn.model_selection import train_test_split, GridSearchCV\n",
    "from sklearn.naive_bayes import MultinomialNB\n",
    "from sklearn.metrics import classification_report, accuracy_score\n",
    "\n",
    "current_dir = os.getcwd()\n",
    "parent_dir = os.path.abspath(os.path.join(current_dir, '..', '..'))\n",
    "sys.path.append(parent_dir)\n",
    "\n",
    "from utils import extract_original_text, extract_preprocessed_text, load_conllu_data\n"
   ]
  },
  {
   "cell_type": "code",
   "execution_count": 3,
   "metadata": {},
   "outputs": [],
   "source": [
    "output_folder = './../output'\n",
    "\n",
    "classes_file = 'classes.txt'\n",
    "preprocessed_file = 'preprocessed_dataset.conllu'\n",
    "\n",
    "seed = 42"
   ]
  },
  {
   "cell_type": "code",
   "execution_count": 4,
   "metadata": {},
   "outputs": [],
   "source": [
    "def run_naive_bayes(X_train, y_train, X_test, y_test):\n",
    "    #4 Training the Naive Bayes classifier\n",
    "    param_grid = {'alpha': [0.1, 0.5, 1.0, 1.5, 2.0]}  # Adjust the range as needed\n",
    "    model = MultinomialNB()\n",
    "    grid_search = GridSearchCV(model, param_grid, cv=5, scoring='accuracy', n_jobs=-1)\n",
    "\n",
    "    # Fit GridSearchCV on the training data\n",
    "    grid_search.fit(X_train, y_train.values.ravel())\n",
    "\n",
    "    # Get the best model from GridSearchCV\n",
    "    best_model = grid_search.best_estimator_\n",
    "\n",
    "    #5 Evaluate the model\n",
    "    y_pred = best_model.predict(X_test)\n",
    "    print(\"Accuracy:\", accuracy_score(y_test, y_pred))\n",
    "    print(\"\\nClassification Report:\\n\", classification_report(y_test, y_pred))\n",
    "\n",
    "    return y_pred"
   ]
  },
  {
   "cell_type": "markdown",
   "metadata": {},
   "source": [
    "## Test - 1 \n",
    "\n",
    "### Full preprocessing:\n",
    "- Lemmatitation \n",
    "- Remmoving of unusable rows\n",
    "- Removing of stopwords\n",
    "- Removing of punctuation"
   ]
  },
  {
   "cell_type": "code",
   "execution_count": 5,
   "metadata": {},
   "outputs": [],
   "source": [
    "vectorizer = TfidfVectorizer()\n",
    "test_1_folder = '0_full_preprocessing'\n",
    "\n",
    "# Load classes from file using pandas\n",
    "class_1_df = pd.read_csv(\n",
    "    f'{output_folder}/{test_1_folder}/{classes_file}', \n",
    "    sep='\\t',\n",
    "    header=None, \n",
    "    names=['doc_id', 'constructive'],\n",
    "    skiprows=1\n",
    ")\n",
    "\n",
    "# Load preprocessed data \n",
    "conllu_data_1 = extract_preprocessed_text(f'{output_folder}/{test_1_folder}/{preprocessed_file}')\n",
    "\n",
    "\n",
    "# Vectorize data\n",
    "X_1 = vectorizer.fit_transform(conllu_data_1)\n",
    "# Extract the classes\n",
    "y_1 = class_1_df['constructive']"
   ]
  },
  {
   "cell_type": "code",
   "execution_count": 6,
   "metadata": {},
   "outputs": [],
   "source": [
    "X_train_1, X_test_1, y_train_1, y_test_1 = train_test_split(X_1, y_1, test_size=0.2, random_state=42)"
   ]
  },
  {
   "cell_type": "code",
   "execution_count": 7,
   "metadata": {},
   "outputs": [
    {
     "name": "stdout",
     "output_type": "stream",
     "text": [
      "Accuracy: 0.677231025854879\n",
      "\n",
      "Classification Report:\n",
      "               precision    recall  f1-score   support\n",
      "\n",
      "           0       0.72      0.47      0.57      1086\n",
      "           1       0.66      0.85      0.74      1312\n",
      "\n",
      "    accuracy                           0.68      2398\n",
      "   macro avg       0.69      0.66      0.66      2398\n",
      "weighted avg       0.69      0.68      0.66      2398\n",
      "\n"
     ]
    }
   ],
   "source": [
    "pred_test_1 = run_naive_bayes(X_train_1, y_train_1, X_test_1, y_test_1)"
   ]
  },
  {
   "cell_type": "markdown",
   "metadata": {},
   "source": [
    "## Test - 2\n",
    "\n",
    "### Keeping punctuation:\n",
    "- Lemmatitation \n",
    "- Remmoving of unusable rows\n",
    "- Removing of punctuation"
   ]
  },
  {
   "cell_type": "code",
   "execution_count": 11,
   "metadata": {},
   "outputs": [],
   "source": [
    "vectorizer = TfidfVectorizer()\n",
    "test_2_folder = '1_keep_punctuation'\n",
    "\n",
    "# Load classes from file using pandas\n",
    "class_2_df = pd.read_csv(\n",
    "    f'{output_folder}/{test_2_folder}/{classes_file}', \n",
    "    sep='\\t',\n",
    "    header=None, \n",
    "    names=['doc_id', 'constructive'],\n",
    "    skiprows=1\n",
    ")\n",
    "\n",
    "# Load preprocessed data \n",
    "conllu_data_2 = extract_preprocessed_text(f'{output_folder}/{test_2_folder}/{preprocessed_file}')\n",
    "\n",
    "\n",
    "# Vectorize data\n",
    "X_2 = vectorizer.fit_transform(conllu_data_2)\n",
    "# Extract the classes\n",
    "y_2 = class_2_df['constructive']"
   ]
  },
  {
   "cell_type": "code",
   "execution_count": 12,
   "metadata": {},
   "outputs": [],
   "source": [
    "X_train_2, X_test_2, y_train_2, y_test_2 = train_test_split(X_2, y_2, test_size=0.2, random_state=42)"
   ]
  },
  {
   "cell_type": "code",
   "execution_count": 13,
   "metadata": {},
   "outputs": [
    {
     "name": "stdout",
     "output_type": "stream",
     "text": [
      "Accuracy: 0.676814011676397\n",
      "\n",
      "Classification Report:\n",
      "               precision    recall  f1-score   support\n",
      "\n",
      "           0       0.72      0.47      0.57      1086\n",
      "           1       0.66      0.85      0.74      1312\n",
      "\n",
      "    accuracy                           0.68      2398\n",
      "   macro avg       0.69      0.66      0.65      2398\n",
      "weighted avg       0.69      0.68      0.66      2398\n",
      "\n"
     ]
    }
   ],
   "source": [
    "pred_test_2 = run_naive_bayes(X_train_2, y_train_2, X_test_2, y_test_2)"
   ]
  },
  {
   "cell_type": "markdown",
   "metadata": {},
   "source": [
    "## Test - 3\n",
    "\n",
    "### Keeping stopwords:\n",
    "- Lemmatitation \n",
    "- Remmoving of unusable rows\n",
    "- Removing of stopwords"
   ]
  },
  {
   "cell_type": "code",
   "execution_count": 14,
   "metadata": {},
   "outputs": [],
   "source": [
    "vectorizer = TfidfVectorizer()\n",
    "test_3_folder = '2_keep_stopwords'\n",
    "\n",
    "# Load classes from file using pandas\n",
    "class_3_df = pd.read_csv(\n",
    "    f'{output_folder}/{test_3_folder}/{classes_file}', \n",
    "    sep='\\t',\n",
    "    header=None, \n",
    "    names=['doc_id', 'constructive'],\n",
    "    skiprows=1\n",
    ")\n",
    "\n",
    "# Load preprocessed data \n",
    "conllu_data_3 = extract_preprocessed_text(f'{output_folder}/{test_3_folder}/{preprocessed_file}')\n",
    "\n",
    "\n",
    "# Vectorize data\n",
    "X_3 = vectorizer.fit_transform(conllu_data_3)\n",
    "# Extract the classes\n",
    "y_3 = class_3_df['constructive']"
   ]
  },
  {
   "cell_type": "code",
   "execution_count": 15,
   "metadata": {},
   "outputs": [],
   "source": [
    "X_train_3, X_test_3, y_train_3, y_test_3 = train_test_split(X_3, y_3, test_size=0.2, random_state=42)"
   ]
  },
  {
   "cell_type": "code",
   "execution_count": 16,
   "metadata": {},
   "outputs": [
    {
     "name": "stdout",
     "output_type": "stream",
     "text": [
      "Accuracy: 0.6818181818181818\n",
      "\n",
      "Classification Report:\n",
      "               precision    recall  f1-score   support\n",
      "\n",
      "           0       0.73      0.48      0.57      1086\n",
      "           1       0.66      0.85      0.75      1312\n",
      "\n",
      "    accuracy                           0.68      2398\n",
      "   macro avg       0.70      0.66      0.66      2398\n",
      "weighted avg       0.69      0.68      0.67      2398\n",
      "\n"
     ]
    }
   ],
   "source": [
    "pred_test_3 = run_naive_bayes(X_train_3, y_train_3, X_test_3, y_test_3)"
   ]
  },
  {
   "cell_type": "markdown",
   "metadata": {},
   "source": [
    "## Test - 4\n",
    "\n",
    "### Keeping punctuation & stopwords:\n",
    "- Lemmatitation \n",
    "- Remmoving of unusable rows"
   ]
  },
  {
   "cell_type": "code",
   "execution_count": 48,
   "metadata": {},
   "outputs": [],
   "source": [
    "vectorizer = TfidfVectorizer()\n",
    "test_4_folder = '3_keep_punctuation_stopwords'\n",
    "\n",
    "# Load classes from file using pandas\n",
    "class_4_df = pd.read_csv(\n",
    "    f'{output_folder}/{test_4_folder}/{classes_file}', \n",
    "    sep='\\t',\n",
    "    header=None, \n",
    "    names=['doc_id', 'constructive'],\n",
    "    skiprows=1\n",
    ")\n",
    "\n",
    "# Load preprocessed data \n",
    "conllu_data_4 = extract_preprocessed_text(f'{output_folder}/{test_4_folder}/{preprocessed_file}')\n",
    "\n",
    "\n",
    "# Vectorize data\n",
    "X_4 = vectorizer.fit_transform(conllu_data_4)\n",
    "# Extract the classes\n",
    "y_4 = class_4_df['constructive']"
   ]
  },
  {
   "cell_type": "code",
   "execution_count": 49,
   "metadata": {},
   "outputs": [],
   "source": [
    "X_train_4, X_test_4, y_train_4, y_test_4 = train_test_split(X_4, y_4, test_size=0.2, random_state=42)"
   ]
  },
  {
   "cell_type": "code",
   "execution_count": 50,
   "metadata": {},
   "outputs": [
    {
     "name": "stdout",
     "output_type": "stream",
     "text": [
      "Accuracy: 0.6814011676396997\n",
      "\n",
      "Classification Report:\n",
      "               precision    recall  f1-score   support\n",
      "\n",
      "           0       0.73      0.48      0.57      1086\n",
      "           1       0.66      0.85      0.75      1312\n",
      "\n",
      "    accuracy                           0.68      2398\n",
      "   macro avg       0.69      0.66      0.66      2398\n",
      "weighted avg       0.69      0.68      0.67      2398\n",
      "\n"
     ]
    }
   ],
   "source": [
    "pred_test_4 = run_naive_bayes(X_train_4, y_train_4, X_test_4, y_test_4)"
   ]
  },
  {
   "cell_type": "code",
   "execution_count": 56,
   "metadata": {},
   "outputs": [],
   "source": [
    "text_df = pd.DataFrame(conllu_data_1, columns=['text'])\n",
    "test_df = pd.DataFrame(y_test_1)\n",
    "\n",
    "# Merge the dataframes by their index\n",
    "combined_results = pd.concat([text_df, test_df], axis=1, join='inner')"
   ]
  },
  {
   "cell_type": "code",
   "execution_count": 57,
   "metadata": {},
   "outputs": [
    {
     "data": {
      "text/html": [
       "<div>\n",
       "<style scoped>\n",
       "    .dataframe tbody tr th:only-of-type {\n",
       "        vertical-align: middle;\n",
       "    }\n",
       "\n",
       "    .dataframe tbody tr th {\n",
       "        vertical-align: top;\n",
       "    }\n",
       "\n",
       "    .dataframe thead th {\n",
       "        text-align: right;\n",
       "    }\n",
       "</style>\n",
       "<table border=\"1\" class=\"dataframe\">\n",
       "  <thead>\n",
       "    <tr style=\"text-align: right;\">\n",
       "      <th></th>\n",
       "      <th>text</th>\n",
       "      <th>constructive</th>\n",
       "      <th>test_1</th>\n",
       "      <th>test_2</th>\n",
       "      <th>test_3</th>\n",
       "      <th>test_4</th>\n",
       "    </tr>\n",
       "  </thead>\n",
       "  <tbody>\n",
       "    <tr>\n",
       "      <th>0</th>\n",
       "      <td>and conservative strategy produce angry desper...</td>\n",
       "      <td>1</td>\n",
       "      <td>1</td>\n",
       "      <td>1</td>\n",
       "      <td>1</td>\n",
       "      <td>1</td>\n",
       "    </tr>\n",
       "    <tr>\n",
       "      <th>3</th>\n",
       "      <td>do need write essay prove point ? just look fo...</td>\n",
       "      <td>1</td>\n",
       "      <td>1</td>\n",
       "      <td>1</td>\n",
       "      <td>1</td>\n",
       "      <td>1</td>\n",
       "    </tr>\n",
       "    <tr>\n",
       "      <th>8</th>\n",
       "      <td>==============================' ben carr , win...</td>\n",
       "      <td>1</td>\n",
       "      <td>0</td>\n",
       "      <td>0</td>\n",
       "      <td>0</td>\n",
       "      <td>0</td>\n",
       "    </tr>\n",
       "    <tr>\n",
       "      <th>10</th>\n",
       "      <td>i be kinda surprise conservative anger generat...</td>\n",
       "      <td>1</td>\n",
       "      <td>1</td>\n",
       "      <td>1</td>\n",
       "      <td>1</td>\n",
       "      <td>1</td>\n",
       "    </tr>\n",
       "    <tr>\n",
       "      <th>14</th>\n",
       "      <td>this birtherism ... problem maryam monsef utte...</td>\n",
       "      <td>1</td>\n",
       "      <td>1</td>\n",
       "      <td>1</td>\n",
       "      <td>1</td>\n",
       "      <td>1</td>\n",
       "    </tr>\n",
       "    <tr>\n",
       "      <th>...</th>\n",
       "      <td>...</td>\n",
       "      <td>...</td>\n",
       "      <td>...</td>\n",
       "      <td>...</td>\n",
       "      <td>...</td>\n",
       "      <td>...</td>\n",
       "    </tr>\n",
       "    <tr>\n",
       "      <th>11947</th>\n",
       "      <td>steven harper see problem here .</td>\n",
       "      <td>0</td>\n",
       "      <td>1</td>\n",
       "      <td>1</td>\n",
       "      <td>1</td>\n",
       "      <td>1</td>\n",
       "    </tr>\n",
       "    <tr>\n",
       "      <th>11951</th>\n",
       "      <td>the writer write like professional race compla...</td>\n",
       "      <td>0</td>\n",
       "      <td>0</td>\n",
       "      <td>0</td>\n",
       "      <td>0</td>\n",
       "      <td>0</td>\n",
       "    </tr>\n",
       "    <tr>\n",
       "      <th>11952</th>\n",
       "      <td>tu thanh ha , i asian too . what chretien happ...</td>\n",
       "      <td>0</td>\n",
       "      <td>1</td>\n",
       "      <td>1</td>\n",
       "      <td>1</td>\n",
       "      <td>1</td>\n",
       "    </tr>\n",
       "    <tr>\n",
       "      <th>11979</th>\n",
       "      <td>single marry nice someone companion , friend ,...</td>\n",
       "      <td>0</td>\n",
       "      <td>1</td>\n",
       "      <td>1</td>\n",
       "      <td>1</td>\n",
       "      <td>1</td>\n",
       "    </tr>\n",
       "    <tr>\n",
       "      <th>11986</th>\n",
       "      <td>the kathleen mcguinty government sweetheart de...</td>\n",
       "      <td>0</td>\n",
       "      <td>0</td>\n",
       "      <td>0</td>\n",
       "      <td>0</td>\n",
       "      <td>0</td>\n",
       "    </tr>\n",
       "  </tbody>\n",
       "</table>\n",
       "<p>2398 rows × 6 columns</p>\n",
       "</div>"
      ],
      "text/plain": [
       "                                                    text  constructive  \\\n",
       "0      and conservative strategy produce angry desper...             1   \n",
       "3      do need write essay prove point ? just look fo...             1   \n",
       "8      ==============================' ben carr , win...             1   \n",
       "10     i be kinda surprise conservative anger generat...             1   \n",
       "14     this birtherism ... problem maryam monsef utte...             1   \n",
       "...                                                  ...           ...   \n",
       "11947                   steven harper see problem here .             0   \n",
       "11951  the writer write like professional race compla...             0   \n",
       "11952  tu thanh ha , i asian too . what chretien happ...             0   \n",
       "11979  single marry nice someone companion , friend ,...             0   \n",
       "11986  the kathleen mcguinty government sweetheart de...             0   \n",
       "\n",
       "       test_1  test_2  test_3  test_4  \n",
       "0           1       1       1       1  \n",
       "3           1       1       1       1  \n",
       "8           0       0       0       0  \n",
       "10          1       1       1       1  \n",
       "14          1       1       1       1  \n",
       "...       ...     ...     ...     ...  \n",
       "11947       1       1       1       1  \n",
       "11951       0       0       0       0  \n",
       "11952       1       1       1       1  \n",
       "11979       1       1       1       1  \n",
       "11986       0       0       0       0  \n",
       "\n",
       "[2398 rows x 6 columns]"
      ]
     },
     "execution_count": 57,
     "metadata": {},
     "output_type": "execute_result"
    }
   ],
   "source": [
    "combined_results['test_1'] = pred_test_1\n",
    "combined_results['test_2'] = pred_test_2\n",
    "combined_results['test_3'] = pred_test_3\n",
    "combined_results['test_4'] = pred_test_4\n",
    "\n",
    "combined_results.shape # 2398 rows\n",
    "\n",
    "combined_results.sort_index()"
   ]
  },
  {
   "cell_type": "code",
   "execution_count": 60,
   "metadata": {},
   "outputs": [],
   "source": [
    "# Get the number of rows where all test results are the same\n",
    "all_equal = combined_results[\n",
    "    (combined_results['test_1'] == combined_results['test_2']) &\n",
    "    (combined_results['test_1'] == combined_results['test_3']) & \n",
    "    (combined_results['test_1'] == combined_results['test_4'])\n",
    "]\n",
    "\n",
    "# Get the number of rows where all test results are not the same\n",
    "all_different = combined_results[\n",
    "    (combined_results['test_1'] != combined_results['test_2']) |\n",
    "    (combined_results['test_1'] != combined_results['test_3']) | \n",
    "    (combined_results['test_1'] != combined_results['test_4'])\n",
    "]\n",
    "\n",
    "all_correct_test_1 = all_equal[all_equal['constructive'] == all_equal['test_1']]\n",
    "all_correct_test_2 = all_equal[all_equal['constructive'] == all_equal['test_2']]\n",
    "all_correct_test_3 = all_equal[all_equal['constructive'] == all_equal['test_3']]\n",
    "all_correct_test_4 = all_equal[all_equal['constructive'] == all_equal['test_4']]\n",
    "\n",
    "all_wrong_test_1 = all_equal[all_equal['constructive'] != all_equal['test_1']]\n",
    "all_wrong_test_2 = all_equal[all_equal['constructive'] != all_equal['test_2']]\n",
    "all_wrong_test_3 = all_equal[all_equal['constructive'] != all_equal['test_3']]\n",
    "all_wrong_test_4 = all_equal[all_equal['constructive'] != all_equal['test_4']]\n",
    "\n",
    "all_wrong = combined_results[\n",
    "    (combined_results['constructive'] != combined_results['test_2']) &\n",
    "    (combined_results['constructive'] != combined_results['test_3']) & \n",
    "    (combined_results['constructive'] != combined_results['test_4']) &\n",
    "    (combined_results['constructive'] != combined_results['test_1'])\n",
    "]\n",
    "\n",
    "all_correct = combined_results[\n",
    "    (combined_results['constructive'] == combined_results['test_2']) &\n",
    "    (combined_results['constructive'] == combined_results['test_3']) & \n",
    "    (combined_results['constructive'] == combined_results['test_4']) &\n",
    "    (combined_results['constructive'] == combined_results['test_1'])\n",
    "]"
   ]
  },
  {
   "cell_type": "code",
   "execution_count": 67,
   "metadata": {},
   "outputs": [
    {
     "data": {
      "text/plain": [
       ".                  4757\n",
       ",                  3990\n",
       "'                  1168\n",
       "i                   910\n",
       "the                 557\n",
       "                   ... \n",
       "smugly                1\n",
       "parliamentarian       1\n",
       "abrogate              1\n",
       "reckone               1\n",
       "accustom              1\n",
       "Name: count, Length: 9009, dtype: int64"
      ]
     },
     "execution_count": 67,
     "metadata": {},
     "output_type": "execute_result"
    }
   ],
   "source": [
    "# Get the most frequent words from all correct predictions with label 0 (non-constructive) and 1 (constructive)\n",
    "non_constructive = all_correct[all_correct['constructive'] == 0]\n",
    "constructive = all_correct[all_correct['constructive'] == 1]\n",
    "\n",
    "\n",
    "constructive_text = constructive['text'].str.cat(sep=' ')\n",
    "# Count the frequency of each word\n",
    "constructive_text = constructive_text.split()\n",
    "constructive_text = pd.Series(constructive_text)\n",
    "# Remove punctuation \n",
    "constructive_text = constructive_text.str.replace('[^\\w\\s]', '')\n",
    "constructive_text = constructive_text.value_counts()\n",
    "\n",
    "constructive_text"
   ]
  }
 ],
 "metadata": {
  "kernelspec": {
   "display_name": "venv",
   "language": "python",
   "name": "python3"
  },
  "language_info": {
   "codemirror_mode": {
    "name": "ipython",
    "version": 3
   },
   "file_extension": ".py",
   "mimetype": "text/x-python",
   "name": "python",
   "nbconvert_exporter": "python",
   "pygments_lexer": "ipython3",
   "version": "3.9.6"
  }
 },
 "nbformat": 4,
 "nbformat_minor": 2
}
