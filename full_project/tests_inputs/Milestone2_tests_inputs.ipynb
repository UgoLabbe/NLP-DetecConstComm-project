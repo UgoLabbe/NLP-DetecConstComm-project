{
 "cells": [
  {
   "cell_type": "markdown",
   "metadata": {},
   "source": [
    "# Testing CoNLL-U datasets\n",
    "\n",
    "In this file we are testing how much the behaviour of a model changes depending of the preprocessing done to our data, including:\n",
    "\n",
    "- Removing stopwords\n",
    "- Removing punctuation\n",
    "- Removing rows that can be considered useless\n",
    "- Etc\n",
    "\n",
    "For all test we will use, for now, the same type of model, same split of values, and same hyperparameters."
   ]
  },
  {
   "cell_type": "code",
   "execution_count": 43,
   "metadata": {},
   "outputs": [],
   "source": [
    "import sys\n",
    "import os\n",
    "import pandas as pd\n",
    "import string\n",
    "import nltk\n",
    "from nltk.corpus import stopwords\n",
    "from sklearn.feature_extraction.text import TfidfVectorizer\n",
    "from sklearn.model_selection import train_test_split, GridSearchCV\n",
    "from sklearn.naive_bayes import MultinomialNB\n",
    "from sklearn.metrics import classification_report, accuracy_score\n",
    "\n",
    "current_dir = os.getcwd()\n",
    "parent_dir = os.path.abspath(os.path.join(current_dir, '..', '..'))\n",
    "sys.path.append(parent_dir)\n",
    "\n",
    "from utils import extract_original_text, extract_preprocessed_text, load_conllu_data\n"
   ]
  },
  {
   "cell_type": "code",
   "execution_count": 44,
   "metadata": {},
   "outputs": [],
   "source": [
    "output_folder = './../output'\n",
    "\n",
    "classes_file = 'classes.txt'\n",
    "preprocessed_file = 'preprocessed_dataset.conllu'\n",
    "\n",
    "seed = 1234\n",
    "\n",
    "stop_words = stopwords.words('english')\n",
    "punctuation = list(string.punctuation)"
   ]
  },
  {
   "cell_type": "code",
   "execution_count": 45,
   "metadata": {},
   "outputs": [],
   "source": [
    "def run_naive_bayes(X_train, y_train, X_test, y_test):\n",
    "    #4 Training the Naive Bayes classifier\n",
    "    param_grid = {'alpha': [0.1, 0.5, 1.0, 1.5, 2.0]}  # Adjust the range as needed\n",
    "    model = MultinomialNB()\n",
    "    grid_search = GridSearchCV(model, param_grid, cv=5, scoring='accuracy', n_jobs=-1)\n",
    "\n",
    "    # Fit GridSearchCV on the training data\n",
    "    grid_search.fit(X_train, y_train.values.ravel())\n",
    "\n",
    "    # Get the best model from GridSearchCV\n",
    "    best_model = grid_search.best_estimator_\n",
    "\n",
    "    #5 Evaluate the model\n",
    "    y_pred = best_model.predict(X_test)\n",
    "    print(\"Accuracy:\", accuracy_score(y_test, y_pred))\n",
    "    print(\"\\nClassification Report:\\n\", classification_report(y_test, y_pred))\n",
    "\n",
    "    return y_pred"
   ]
  },
  {
   "cell_type": "markdown",
   "metadata": {},
   "source": [
    "## Test - 1 \n",
    "\n",
    "### Full preprocessing:\n",
    "- Lemmatitation \n",
    "- Remmoving of unusable rows\n",
    "- Removing of stopwords\n",
    "- Removing of punctuation"
   ]
  },
  {
   "cell_type": "code",
   "execution_count": 46,
   "metadata": {},
   "outputs": [],
   "source": [
    "vectorizer = TfidfVectorizer()\n",
    "test_1_folder = '0_full_preprocessing'\n",
    "\n",
    "# Load classes from file using pandas\n",
    "class_1_df = pd.read_csv(\n",
    "    f'{output_folder}/{test_1_folder}/{classes_file}', \n",
    "    sep='\\t',\n",
    "    header=None, \n",
    "    names=['doc_id', 'constructive'],\n",
    "    skiprows=1\n",
    ")\n",
    "\n",
    "# Load preprocessed data \n",
    "conllu_data_1 = extract_preprocessed_text(f'{output_folder}/{test_1_folder}/{preprocessed_file}')\n",
    "\n",
    "\n",
    "# Vectorize data\n",
    "X_1 = vectorizer.fit_transform(conllu_data_1)\n",
    "# Extract the classes\n",
    "y_1 = class_1_df['constructive']"
   ]
  },
  {
   "cell_type": "code",
   "execution_count": 47,
   "metadata": {},
   "outputs": [],
   "source": [
    "X_train_1, X_test_1, y_train_1, y_test_1 = train_test_split(X_1, y_1, test_size=0.2, random_state=seed)"
   ]
  },
  {
   "cell_type": "code",
   "execution_count": 48,
   "metadata": {},
   "outputs": [
    {
     "name": "stdout",
     "output_type": "stream",
     "text": [
      "Accuracy: 0.6868223519599667\n",
      "\n",
      "Classification Report:\n",
      "               precision    recall  f1-score   support\n",
      "\n",
      "           0       0.75      0.49      0.59      1114\n",
      "           1       0.66      0.86      0.75      1284\n",
      "\n",
      "    accuracy                           0.69      2398\n",
      "   macro avg       0.71      0.67      0.67      2398\n",
      "weighted avg       0.70      0.69      0.67      2398\n",
      "\n"
     ]
    }
   ],
   "source": [
    "pred_test_1 = run_naive_bayes(X_train_1, y_train_1, X_test_1, y_test_1)"
   ]
  },
  {
   "cell_type": "markdown",
   "metadata": {},
   "source": [
    "## Test - 2\n",
    "\n",
    "### Keeping punctuation:\n",
    "- Lemmatitation \n",
    "- Remmoving of unusable rows\n",
    "- Removing of punctuation"
   ]
  },
  {
   "cell_type": "code",
   "execution_count": 49,
   "metadata": {},
   "outputs": [],
   "source": [
    "vectorizer = TfidfVectorizer()\n",
    "test_2_folder = '1_keep_punctuation'\n",
    "\n",
    "# Load classes from file using pandas\n",
    "class_2_df = pd.read_csv(\n",
    "    f'{output_folder}/{test_2_folder}/{classes_file}', \n",
    "    sep='\\t',\n",
    "    header=None, \n",
    "    names=['doc_id', 'constructive'],\n",
    "    skiprows=1\n",
    ")\n",
    "\n",
    "# Load preprocessed data \n",
    "conllu_data_2 = extract_preprocessed_text(f'{output_folder}/{test_2_folder}/{preprocessed_file}')\n",
    "\n",
    "\n",
    "# Vectorize data\n",
    "X_2 = vectorizer.fit_transform(conllu_data_2)\n",
    "# Extract the classes\n",
    "y_2 = class_2_df['constructive']"
   ]
  },
  {
   "cell_type": "code",
   "execution_count": 50,
   "metadata": {},
   "outputs": [],
   "source": [
    "X_train_2, X_test_2, y_train_2, y_test_2 = train_test_split(X_2, y_2, test_size=0.2, random_state=seed)"
   ]
  },
  {
   "cell_type": "code",
   "execution_count": 51,
   "metadata": {},
   "outputs": [
    {
     "name": "stdout",
     "output_type": "stream",
     "text": [
      "Accuracy: 0.6864053377814846\n",
      "\n",
      "Classification Report:\n",
      "               precision    recall  f1-score   support\n",
      "\n",
      "           0       0.75      0.49      0.59      1114\n",
      "           1       0.66      0.86      0.75      1284\n",
      "\n",
      "    accuracy                           0.69      2398\n",
      "   macro avg       0.70      0.67      0.67      2398\n",
      "weighted avg       0.70      0.69      0.67      2398\n",
      "\n"
     ]
    }
   ],
   "source": [
    "pred_test_2 = run_naive_bayes(X_train_2, y_train_2, X_test_2, y_test_2)"
   ]
  },
  {
   "cell_type": "markdown",
   "metadata": {},
   "source": [
    "## Test - 3\n",
    "\n",
    "### Keeping stopwords:\n",
    "- Lemmatitation \n",
    "- Remmoving of unusable rows\n",
    "- Removing of stopwords"
   ]
  },
  {
   "cell_type": "code",
   "execution_count": 52,
   "metadata": {},
   "outputs": [],
   "source": [
    "vectorizer = TfidfVectorizer()\n",
    "test_3_folder = '2_keep_stopwords'\n",
    "\n",
    "# Load classes from file using pandas\n",
    "class_3_df = pd.read_csv(\n",
    "    f'{output_folder}/{test_3_folder}/{classes_file}', \n",
    "    sep='\\t',\n",
    "    header=None, \n",
    "    names=['doc_id', 'constructive'],\n",
    "    skiprows=1\n",
    ")\n",
    "\n",
    "# Load preprocessed data \n",
    "conllu_data_3 = extract_preprocessed_text(f'{output_folder}/{test_3_folder}/{preprocessed_file}')\n",
    "\n",
    "\n",
    "# Vectorize data\n",
    "X_3 = vectorizer.fit_transform(conllu_data_3)\n",
    "# Extract the classes\n",
    "y_3 = class_3_df['constructive']"
   ]
  },
  {
   "cell_type": "code",
   "execution_count": 53,
   "metadata": {},
   "outputs": [],
   "source": [
    "X_train_3, X_test_3, y_train_3, y_test_3 = train_test_split(X_3, y_3, test_size=0.2, random_state=seed)"
   ]
  },
  {
   "cell_type": "code",
   "execution_count": 54,
   "metadata": {},
   "outputs": [
    {
     "name": "stdout",
     "output_type": "stream",
     "text": [
      "Accuracy: 0.6818181818181818\n",
      "\n",
      "Classification Report:\n",
      "               precision    recall  f1-score   support\n",
      "\n",
      "           0       0.76      0.46      0.58      1114\n",
      "           1       0.65      0.87      0.75      1284\n",
      "\n",
      "    accuracy                           0.68      2398\n",
      "   macro avg       0.70      0.67      0.66      2398\n",
      "weighted avg       0.70      0.68      0.67      2398\n",
      "\n"
     ]
    }
   ],
   "source": [
    "pred_test_3 = run_naive_bayes(X_train_3, y_train_3, X_test_3, y_test_3)"
   ]
  },
  {
   "cell_type": "markdown",
   "metadata": {},
   "source": [
    "## Test - 4\n",
    "\n",
    "### Keeping punctuation & stopwords:\n",
    "- Lemmatitation \n",
    "- Remmoving of unusable rows"
   ]
  },
  {
   "cell_type": "code",
   "execution_count": 55,
   "metadata": {},
   "outputs": [],
   "source": [
    "vectorizer = TfidfVectorizer()\n",
    "test_4_folder = '3_keep_punctuation_stopwords'\n",
    "\n",
    "# Load classes from file using pandas\n",
    "class_4_df = pd.read_csv(\n",
    "    f'{output_folder}/{test_4_folder}/{classes_file}', \n",
    "    sep='\\t',\n",
    "    header=None, \n",
    "    names=['doc_id', 'constructive'],\n",
    "    skiprows=1\n",
    ")\n",
    "\n",
    "# Load preprocessed data \n",
    "conllu_data_4 = extract_preprocessed_text(f'{output_folder}/{test_4_folder}/{preprocessed_file}')\n",
    "\n",
    "\n",
    "# Vectorize data\n",
    "X_4 = vectorizer.fit_transform(conllu_data_4)\n",
    "# Extract the classes\n",
    "y_4 = class_4_df['constructive']"
   ]
  },
  {
   "cell_type": "code",
   "execution_count": 56,
   "metadata": {},
   "outputs": [],
   "source": [
    "X_train_4, X_test_4, y_train_4, y_test_4 = train_test_split(X_4, y_4, test_size=0.2, random_state=seed)"
   ]
  },
  {
   "cell_type": "code",
   "execution_count": 57,
   "metadata": {},
   "outputs": [
    {
     "name": "stdout",
     "output_type": "stream",
     "text": [
      "Accuracy: 0.6814011676396997\n",
      "\n",
      "Classification Report:\n",
      "               precision    recall  f1-score   support\n",
      "\n",
      "           0       0.76      0.46      0.58      1114\n",
      "           1       0.65      0.87      0.75      1284\n",
      "\n",
      "    accuracy                           0.68      2398\n",
      "   macro avg       0.70      0.67      0.66      2398\n",
      "weighted avg       0.70      0.68      0.67      2398\n",
      "\n"
     ]
    }
   ],
   "source": [
    "pred_test_4 = run_naive_bayes(X_train_4, y_train_4, X_test_4, y_test_4)"
   ]
  },
  {
   "cell_type": "code",
   "execution_count": 67,
   "metadata": {},
   "outputs": [
    {
     "data": {
      "text/html": [
       "<div>\n",
       "<style scoped>\n",
       "    .dataframe tbody tr th:only-of-type {\n",
       "        vertical-align: middle;\n",
       "    }\n",
       "\n",
       "    .dataframe tbody tr th {\n",
       "        vertical-align: top;\n",
       "    }\n",
       "\n",
       "    .dataframe thead th {\n",
       "        text-align: right;\n",
       "    }\n",
       "</style>\n",
       "<table border=\"1\" class=\"dataframe\">\n",
       "  <thead>\n",
       "    <tr style=\"text-align: right;\">\n",
       "      <th></th>\n",
       "      <th>text_1</th>\n",
       "      <th>text_2</th>\n",
       "      <th>text_3</th>\n",
       "      <th>text_4</th>\n",
       "      <th>constructive</th>\n",
       "    </tr>\n",
       "  </thead>\n",
       "  <tbody>\n",
       "    <tr>\n",
       "      <th>1</th>\n",
       "      <td>i commend harper hold debate outside left - wi...</td>\n",
       "      <td>i commend harper hold debate outside left - wi...</td>\n",
       "      <td>i commend harper for hold the debate outside o...</td>\n",
       "      <td>i commend harper for hold the debate outside o...</td>\n",
       "      <td>1</td>\n",
       "    </tr>\n",
       "    <tr>\n",
       "      <th>2</th>\n",
       "      <td>what joke rachel notley be . this post ndp web...</td>\n",
       "      <td>what joke rachel notley be . this post ndp web...</td>\n",
       "      <td>what a joke rachel notley be . this be what be...</td>\n",
       "      <td>what a joke rachel notley be . this be what be...</td>\n",
       "      <td>1</td>\n",
       "    </tr>\n",
       "    <tr>\n",
       "      <th>5</th>\n",
       "      <td>what absurd opinion piece ! identity politics ...</td>\n",
       "      <td>what absurd opinion piece ! identity politics ...</td>\n",
       "      <td>what a absurd opinion piece ! identity politic...</td>\n",
       "      <td>what a absurd opinion piece ! identity politic...</td>\n",
       "      <td>1</td>\n",
       "    </tr>\n",
       "    <tr>\n",
       "      <th>6</th>\n",
       "      <td>in usa states senate . i believe ontario get b...</td>\n",
       "      <td>in usa states senate . i believe ontario get b...</td>\n",
       "      <td>in the usa most state have a senate . i believ...</td>\n",
       "      <td>in the usa most state have a senate . i believ...</td>\n",
       "      <td>1</td>\n",
       "    </tr>\n",
       "    <tr>\n",
       "      <th>8</th>\n",
       "      <td>==============================' ben carr , win...</td>\n",
       "      <td>==============================' ben carr , win...</td>\n",
       "      <td>==============================' ben carr , a w...</td>\n",
       "      <td>==============================' ben carr , a w...</td>\n",
       "      <td>1</td>\n",
       "    </tr>\n",
       "    <tr>\n",
       "      <th>...</th>\n",
       "      <td>...</td>\n",
       "      <td>...</td>\n",
       "      <td>...</td>\n",
       "      <td>...</td>\n",
       "      <td>...</td>\n",
       "    </tr>\n",
       "    <tr>\n",
       "      <th>11973</th>\n",
       "      <td>jeff rubin david suzuki . can anyone name two ...</td>\n",
       "      <td>jeff rubin david suzuki . can anyone name two ...</td>\n",
       "      <td>jeff rubin and david suzuki . can anyone name ...</td>\n",
       "      <td>jeff rubin and david suzuki . can anyone name ...</td>\n",
       "      <td>0</td>\n",
       "    </tr>\n",
       "    <tr>\n",
       "      <th>11974</th>\n",
       "      <td>blm illustrate lack credibility repeat vicious...</td>\n",
       "      <td>blm illustrate lack credibility repeat vicious...</td>\n",
       "      <td>blm illustrate their lack of credibility by re...</td>\n",
       "      <td>blm illustrate their lack of credibility by re...</td>\n",
       "      <td>0</td>\n",
       "    </tr>\n",
       "    <tr>\n",
       "      <th>11980</th>\n",
       "      <td>i even finish article , i skim jump see local ...</td>\n",
       "      <td>i even finish article , i skim jump see local ...</td>\n",
       "      <td>i do not even finish the article , i just skim...</td>\n",
       "      <td>i do not even finish the article , i just skim...</td>\n",
       "      <td>0</td>\n",
       "    </tr>\n",
       "    <tr>\n",
       "      <th>11981</th>\n",
       "      <td>some we prefer life run vote committee .</td>\n",
       "      <td>some we prefer life run vote committee .</td>\n",
       "      <td>some of we prefer not to have our life run by ...</td>\n",
       "      <td>some of we prefer not to have our life run by ...</td>\n",
       "      <td>0</td>\n",
       "    </tr>\n",
       "    <tr>\n",
       "      <th>11984</th>\n",
       "      <td>ontario certainly government deserve .</td>\n",
       "      <td>ontario certainly government deserve .</td>\n",
       "      <td>ontario certainly have the government they des...</td>\n",
       "      <td>ontario certainly have the government they des...</td>\n",
       "      <td>0</td>\n",
       "    </tr>\n",
       "  </tbody>\n",
       "</table>\n",
       "<p>2398 rows × 5 columns</p>\n",
       "</div>"
      ],
      "text/plain": [
       "                                                  text_1  \\\n",
       "1      i commend harper hold debate outside left - wi...   \n",
       "2      what joke rachel notley be . this post ndp web...   \n",
       "5      what absurd opinion piece ! identity politics ...   \n",
       "6      in usa states senate . i believe ontario get b...   \n",
       "8      ==============================' ben carr , win...   \n",
       "...                                                  ...   \n",
       "11973  jeff rubin david suzuki . can anyone name two ...   \n",
       "11974  blm illustrate lack credibility repeat vicious...   \n",
       "11980  i even finish article , i skim jump see local ...   \n",
       "11981           some we prefer life run vote committee .   \n",
       "11984             ontario certainly government deserve .   \n",
       "\n",
       "                                                  text_2  \\\n",
       "1      i commend harper hold debate outside left - wi...   \n",
       "2      what joke rachel notley be . this post ndp web...   \n",
       "5      what absurd opinion piece ! identity politics ...   \n",
       "6      in usa states senate . i believe ontario get b...   \n",
       "8      ==============================' ben carr , win...   \n",
       "...                                                  ...   \n",
       "11973  jeff rubin david suzuki . can anyone name two ...   \n",
       "11974  blm illustrate lack credibility repeat vicious...   \n",
       "11980  i even finish article , i skim jump see local ...   \n",
       "11981           some we prefer life run vote committee .   \n",
       "11984             ontario certainly government deserve .   \n",
       "\n",
       "                                                  text_3  \\\n",
       "1      i commend harper for hold the debate outside o...   \n",
       "2      what a joke rachel notley be . this be what be...   \n",
       "5      what a absurd opinion piece ! identity politic...   \n",
       "6      in the usa most state have a senate . i believ...   \n",
       "8      ==============================' ben carr , a w...   \n",
       "...                                                  ...   \n",
       "11973  jeff rubin and david suzuki . can anyone name ...   \n",
       "11974  blm illustrate their lack of credibility by re...   \n",
       "11980  i do not even finish the article , i just skim...   \n",
       "11981  some of we prefer not to have our life run by ...   \n",
       "11984  ontario certainly have the government they des...   \n",
       "\n",
       "                                                  text_4  constructive  \n",
       "1      i commend harper for hold the debate outside o...             1  \n",
       "2      what a joke rachel notley be . this be what be...             1  \n",
       "5      what a absurd opinion piece ! identity politic...             1  \n",
       "6      in the usa most state have a senate . i believ...             1  \n",
       "8      ==============================' ben carr , a w...             1  \n",
       "...                                                  ...           ...  \n",
       "11973  jeff rubin and david suzuki . can anyone name ...             0  \n",
       "11974  blm illustrate their lack of credibility by re...             0  \n",
       "11980  i do not even finish the article , i just skim...             0  \n",
       "11981  some of we prefer not to have our life run by ...             0  \n",
       "11984  ontario certainly have the government they des...             0  \n",
       "\n",
       "[2398 rows x 5 columns]"
      ]
     },
     "execution_count": 67,
     "metadata": {},
     "output_type": "execute_result"
    }
   ],
   "source": [
    "text_1_df = pd.DataFrame(conllu_data_1, columns=['text_1'])\n",
    "text_2_df = pd.DataFrame(conllu_data_2, columns=['text_2'])\n",
    "text_3_df = pd.DataFrame(conllu_data_3, columns=['text_3'])\n",
    "text_4_df = pd.DataFrame(conllu_data_4, columns=['text_4'])\n",
    "\n",
    "test_df = pd.DataFrame(y_test_1)\n",
    "\n",
    "# Merge the dataframes by their index\n",
    "combined_results = pd.concat([text_1_df, text_2_df, text_3_df, text_4_df, test_df], axis=1, join='inner')\n",
    "combined_results"
   ]
  },
  {
   "cell_type": "code",
   "execution_count": 59,
   "metadata": {},
   "outputs": [],
   "source": [
    "combined_results['test_1'] = pred_test_1\n",
    "combined_results['test_2'] = pred_test_2\n",
    "combined_results['test_3'] = pred_test_3\n",
    "combined_results['test_4'] = pred_test_4\n",
    "\n",
    "combined_results.shape # 2398 rows\n",
    "\n",
    "combined_results.sort_index()\n",
    "\n",
    "# Save test results\n",
    "combined_results.to_csv(f'{output_folder}/tests_results.csv', index=False)"
   ]
  },
  {
   "cell_type": "code",
   "execution_count": 60,
   "metadata": {},
   "outputs": [],
   "source": [
    "# Get the number of rows where all test results are the same\n",
    "all_equal = combined_results[\n",
    "    (combined_results['test_1'] == combined_results['test_2']) &\n",
    "    (combined_results['test_1'] == combined_results['test_3']) & \n",
    "    (combined_results['test_1'] == combined_results['test_4'])\n",
    "]\n",
    "\n",
    "# Get the number of rows where all test results are not the same\n",
    "all_different = combined_results[\n",
    "    (combined_results['test_1'] != combined_results['test_2']) |\n",
    "    (combined_results['test_1'] != combined_results['test_3']) | \n",
    "    (combined_results['test_1'] != combined_results['test_4'])\n",
    "]\n",
    "\n",
    "all_correct_test_1 = all_equal[all_equal['constructive'] == all_equal['test_1']]\n",
    "all_correct_test_2 = all_equal[all_equal['constructive'] == all_equal['test_2']]\n",
    "all_correct_test_3 = all_equal[all_equal['constructive'] == all_equal['test_3']]\n",
    "all_correct_test_4 = all_equal[all_equal['constructive'] == all_equal['test_4']]\n",
    "\n",
    "all_wrong_test_1 = all_equal[all_equal['constructive'] != all_equal['test_1']]\n",
    "all_wrong_test_2 = all_equal[all_equal['constructive'] != all_equal['test_2']]\n",
    "all_wrong_test_3 = all_equal[all_equal['constructive'] != all_equal['test_3']]\n",
    "all_wrong_test_4 = all_equal[all_equal['constructive'] != all_equal['test_4']]\n",
    "\n",
    "all_wrong = combined_results[\n",
    "    (combined_results['constructive'] != combined_results['test_2']) &\n",
    "    (combined_results['constructive'] != combined_results['test_3']) & \n",
    "    (combined_results['constructive'] != combined_results['test_4']) &\n",
    "    (combined_results['constructive'] != combined_results['test_1'])\n",
    "]\n",
    "\n",
    "all_correct = combined_results[\n",
    "    (combined_results['constructive'] == combined_results['test_2']) &\n",
    "    (combined_results['constructive'] == combined_results['test_3']) & \n",
    "    (combined_results['constructive'] == combined_results['test_4']) &\n",
    "    (combined_results['constructive'] == combined_results['test_1'])\n",
    "]"
   ]
  },
  {
   "cell_type": "code",
   "execution_count": 61,
   "metadata": {},
   "outputs": [],
   "source": [
    "def get_most_common_words(data, n=10):\n",
    "    new_stop_words = stop_words.copy()\n",
    "    new_stop_words.remove('but')\n",
    "    new_stop_words.remove('if')\n",
    "    new_stop_words.remove('until')\n",
    "    new_stop_words.remove('than')\n",
    "\n",
    "    joined_text = data['text'].str.cat(sep=' ')\n",
    "    # Remove punctuation\n",
    "    joined_text = joined_text.translate(str.maketrans('', '', string.punctuation))\n",
    "    # Remove stopwords\n",
    "    joined_text = ' '.join([word for word in joined_text.split() if word.lower() not in new_stop_words])\n",
    "    # Count the frequency of each word\n",
    "    joined_text = joined_text.split()\n",
    "    joined_text = pd.Series(joined_text)\n",
    "    # Remove punctuation \n",
    "    joined_text = joined_text.value_counts()\n",
    "\n",
    "    return  joined_text.head(n)"
   ]
  },
  {
   "cell_type": "code",
   "execution_count": 62,
   "metadata": {},
   "outputs": [],
   "source": [
    "# Get the most frequent words from all correct predictions with label 0 (non-constructive) and 1 (constructive)\n",
    "non_constructive = all_correct[all_correct['constructive'] == 0]\n",
    "constructive = all_correct[all_correct['constructive'] == 1]\n",
    "\n",
    "# non_constructive_words = get_most_common_words(non_constructive,20)\n",
    "# constructive_words = get_most_common_words(constructive, 20)"
   ]
  },
  {
   "cell_type": "code",
   "execution_count": 63,
   "metadata": {},
   "outputs": [],
   "source": [
    "# non_constructive_words"
   ]
  },
  {
   "cell_type": "code",
   "execution_count": 64,
   "metadata": {},
   "outputs": [],
   "source": [
    "# constructive_words"
   ]
  },
  {
   "cell_type": "markdown",
   "metadata": {},
   "source": [
    "## Comments hard to classify"
   ]
  },
  {
   "cell_type": "code",
   "execution_count": 65,
   "metadata": {},
   "outputs": [
    {
     "data": {
      "text/plain": [
       "(1106, 9)"
      ]
     },
     "execution_count": 65,
     "metadata": {},
     "output_type": "execute_result"
    }
   ],
   "source": [
    "all_wrong.shape"
   ]
  },
  {
   "cell_type": "code",
   "execution_count": 66,
   "metadata": {},
   "outputs": [],
   "source": [
    "# Save in a file all_wrong\n",
    "all_wrong.to_csv(f'{output_folder}/all_wrong.csv')"
   ]
  }
 ],
 "metadata": {
  "kernelspec": {
   "display_name": "venv",
   "language": "python",
   "name": "python3"
  },
  "language_info": {
   "codemirror_mode": {
    "name": "ipython",
    "version": 3
   },
   "file_extension": ".py",
   "mimetype": "text/x-python",
   "name": "python",
   "nbconvert_exporter": "python",
   "pygments_lexer": "ipython3",
   "version": "3.9.6"
  }
 },
 "nbformat": 4,
 "nbformat_minor": 2
}
